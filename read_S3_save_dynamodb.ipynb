{
 "cells": [
  {
   "cell_type": "code",
   "execution_count": 12,
   "metadata": {},
   "outputs": [],
   "source": [
    "import io\n",
    "import json\n",
    "import boto3\n",
    "import pandas as  pd\n",
    "\n",
    "session = boto3.Session(profile_name='AWS_Profile')"
   ]
  },
  {
   "cell_type": "code",
   "execution_count": 14,
   "metadata": {},
   "outputs": [],
   "source": [
    "def S3_read(bucket, filename):\n",
    "    s3 = session.client('s3')\n",
    "    obj = s3.get_object(Bucket=bucket, Key=filename)\n",
    "    \n",
    "    return pandas.read_csv(io.BytesIO(obj['Body'].read()), header=None, sep=';')\n",
    "\n",
    "def db_put_item(dict_info):\n",
    "    # dynamo DB \n",
    "    dynamodb = session.resource('dynamodb')\n",
    "    table = dynamodb.Table('customers-accesstoken')\n",
    "    \n",
    "    if isinstance(dict_info['itemidwebhook'], str):\n",
    "        table.put_item(\n",
    "            Item = dict_info\n",
    "        )\n",
    "        return True\n",
    "    return False"
   ]
  },
  {
   "cell_type": "code",
   "execution_count": 15,
   "metadata": {},
   "outputs": [
    {
     "data": {
      "text/plain": [
       "0        True\n",
       "1        True\n",
       "2        True\n",
       "3        True\n",
       "4        True\n",
       "         ... \n",
       "15832    True\n",
       "15833    True\n",
       "15834    True\n",
       "15835    True\n",
       "15836    True\n",
       "Length: 15837, dtype: bool"
      ]
     },
     "execution_count": 15,
     "metadata": {},
     "output_type": "execute_result"
    }
   ],
   "source": [
    "bucket = 'bucket_name'\n",
    "object_key = 'folder/file.csv'\n",
    "    \n",
    "# reading file from S3\n",
    "df = S3_read(bucket, object_key)\n",
    "df.head()\n",
    "\n",
    "# saving rows in dynamo DB\n",
    "df.apply(lambda x:\n",
    "    db_put_item(\n",
    "        {\n",
    "            'itemidwebhook': x[4],\n",
    "            'accesstoken': x[3],\n",
    "            'customersid': str(x[1])\n",
    "        }\n",
    "    ), axis=1\n",
    ")"
   ]
  }
 ],
 "metadata": {
  "kernelspec": {
   "display_name": "Python [conda env:.conda-blinc]",
   "language": "python",
   "name": "conda-env-.conda-blinc-py"
  },
  "language_info": {
   "codemirror_mode": {
    "name": "ipython",
    "version": 3
   },
   "file_extension": ".py",
   "mimetype": "text/x-python",
   "name": "python",
   "nbconvert_exporter": "python",
   "pygments_lexer": "ipython3",
   "version": "3.7.6"
  }
 },
 "nbformat": 4,
 "nbformat_minor": 2
}
