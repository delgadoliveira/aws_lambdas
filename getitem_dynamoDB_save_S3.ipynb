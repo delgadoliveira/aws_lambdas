{
 "cells": [
  {
   "cell_type": "code",
   "execution_count": null,
   "metadata": {},
   "outputs": [],
   "source": [
    "import json\n",
    "import pandas as pd\n",
    "import boto3\n",
    "import botocore\n",
    "import csv"
   ]
  },
  {
   "cell_type": "code",
   "execution_count": null,
   "metadata": {},
   "outputs": [],
   "source": [
    "def db_get_item(field_1):\n",
    "    # dynamo DB \n",
    "    dynamodb = boto3.resource('dynamodb')\n",
    "    table = dynamodb.Table('table_name')\n",
    "    \n",
    "    return table.get_item(\n",
    "            Key = {\n",
    "                'filed_1': field_1\n",
    "            }\n",
    "        )"
   ]
  },
  {
   "cell_type": "code",
   "execution_count": null,
   "metadata": {},
   "outputs": [],
   "source": [
    "def S3_save(file_dict):\n",
    "    \n",
    "    s3 = boto3.resource('s3')\n",
    "    \n",
    "    return s3.Object(\n",
    "        \"datalake-blincloans\", \n",
    "        file_dict['filename']\n",
    "        ).put(Body=file_dict['file'])\n",
    "    "
   ]
  },
  {
   "cell_type": "code",
   "execution_count": null,
   "metadata": {},
   "outputs": [],
   "source": [
    "def lambda_handler(event, context):\n",
    "    json_dict = event['body']\n",
    "    \n",
    "    #Get customer access_token from dynamo DB\n",
    "    reg_dict = db_get_item(json_dict['Item_id'])\n",
    "    \n",
    "    #Save file in S3\n",
    "    file_dict = {\n",
    "        'filename': 'test_save_lambda/file.csv',\n",
    "        'file': str(transactions).strip('[]')\n",
    "    }\n",
    "    \n",
    "    S3_save(file_dict)\n",
    "    \n",
    "    # TODO implement\n",
    "    return {\n",
    "        'statusCode': 200,\n",
    "        'body': json.dumps(json_dict)\n",
    "\n",
    "    }"
   ]
  }
 ],
 "metadata": {
  "kernelspec": {
   "display_name": "Python [conda env:.conda-blinc]",
   "language": "python",
   "name": "conda-env-.conda-blinc-py"
  },
  "language_info": {
   "codemirror_mode": {
    "name": "ipython",
    "version": 3
   },
   "file_extension": ".py",
   "mimetype": "text/x-python",
   "name": "python",
   "nbconvert_exporter": "python",
   "pygments_lexer": "ipython3",
   "version": "3.7.6"
  }
 },
 "nbformat": 4,
 "nbformat_minor": 2
}
